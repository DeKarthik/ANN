{
  "nbformat": 4,
  "nbformat_minor": 0,
  "metadata": {
    "colab": {
      "name": "Copy of Artificial Neural Network",
      "provenance": [],
      "collapsed_sections": [],
      "include_colab_link": true
    },
    "kernelspec": {
      "name": "python3",
      "display_name": "Python 3"
    }
  },
  "cells": [
    {
      "cell_type": "markdown",
      "metadata": {
        "id": "view-in-github",
        "colab_type": "text"
      },
      "source": [
        "<a href=\"https://colab.research.google.com/github/DeKarthik/ANN/blob/ANN/Copy_of_Artificial_Neural_Network.ipynb\" target=\"_parent\"><img src=\"https://colab.research.google.com/assets/colab-badge.svg\" alt=\"Open In Colab\"/></a>"
      ]
    },
    {
      "cell_type": "markdown",
      "metadata": {
        "id": "3cbb7fRy-eyr"
      },
      "source": [
        "# Artificial Neural Network"
      ]
    },
    {
      "cell_type": "markdown",
      "metadata": {
        "id": "8sNDnxE2-pwE"
      },
      "source": [
        "### Importing the libraries"
      ]
    },
    {
      "cell_type": "code",
      "metadata": {
        "id": "lxChR1Rk-umf"
      },
      "source": [
        "import numpy as np\n",
        "import pandas as pd\n",
        "import tensorflow as tf"
      ],
      "execution_count": 10,
      "outputs": []
    },
    {
      "cell_type": "code",
      "metadata": {
        "id": "uBTqR3nacj0e",
        "colab": {
          "base_uri": "https://localhost:8080/",
          "height": 35
        },
        "outputId": "06e1c5f0-b149-4f37-bec5-717a55272e7a"
      },
      "source": [
        "tf.__version__"
      ],
      "execution_count": 11,
      "outputs": [
        {
          "output_type": "execute_result",
          "data": {
            "application/vnd.google.colaboratory.intrinsic+json": {
              "type": "string"
            },
            "text/plain": [
              "'2.5.0'"
            ]
          },
          "metadata": {
            "tags": []
          },
          "execution_count": 11
        }
      ]
    },
    {
      "cell_type": "markdown",
      "metadata": {
        "id": "AG3FQEch-yuA"
      },
      "source": [
        "## Part 1 - Data Preprocessing"
      ]
    },
    {
      "cell_type": "markdown",
      "metadata": {
        "id": "-4zq8Mza_D9O"
      },
      "source": [
        "### Importing the dataset"
      ]
    },
    {
      "cell_type": "code",
      "metadata": {
        "id": "B9CV13Co_HHM"
      },
      "source": [
        "dataset = pd.read_excel('Folds5x2_pp.xlsx')\n",
        "X = dataset.iloc[:, :-1].values\n",
        "y = dataset.iloc[:, -1].values"
      ],
      "execution_count": 12,
      "outputs": []
    },
    {
      "cell_type": "markdown",
      "metadata": {
        "id": "VC6omXel_Up0"
      },
      "source": [
        "### Splitting the dataset into the Training set and Test set"
      ]
    },
    {
      "cell_type": "code",
      "metadata": {
        "id": "L5edeb2r_agx"
      },
      "source": [
        "# use scikit learn\n",
        "from sklearn.model_selection import train_test_split\n",
        "# this function takes two matrices features and dependent variables\n",
        "# and return 4 matrices of training and test for both matrices\n",
        "\n",
        "\n",
        "X_train, X_test, y_train, y_test = train_test_split(X, y, test_size = 0.2, random_state = 0)\n",
        "# test_size -- it takes 20% of the set to train\n",
        "# random_state -- for Same split of training set and test set"
      ],
      "execution_count": 13,
      "outputs": []
    },
    {
      "cell_type": "markdown",
      "metadata": {
        "id": "_mSLlAT9_eyI"
      },
      "source": [
        "## Part 2 - Building the ANN"
      ]
    },
    {
      "cell_type": "markdown",
      "metadata": {
        "id": "CsBULd_f_wLY"
      },
      "source": [
        "### Initializing the ANN"
      ]
    },
    {
      "cell_type": "code",
      "metadata": {
        "id": "69qvyBbcyhUx"
      },
      "source": [
        "# initialize ANN as sequence of layers as in ANN architecture\n",
        "# create object for sequential class by tensorflow - deep learning library\n",
        "# keras is sub lib of tensorflow\n",
        "ann = tf.keras.models.Sequential()"
      ],
      "execution_count": 14,
      "outputs": []
    },
    {
      "cell_type": "markdown",
      "metadata": {
        "id": "iitAFJS_ABUn"
      },
      "source": [
        "### Adding the input layer and the first hidden layer"
      ]
    },
    {
      "cell_type": "code",
      "metadata": {
        "id": "NnHAwQFx2qjm"
      },
      "source": [
        "ann.add(tf.keras.layers.Dense(units=6, activation='relu')) #6 neurons in first hidden layer\n",
        "# we also need to provide activation function for\n",
        "#  full connections b/w input and first hidden layer\n",
        "\n",
        "# We dont need to specify the features because \n",
        "# tensorflow automatically takes the input\n",
        "# (since here is only one input) number of input\n",
        "# in layer BUT we need to specify how many neurons\n",
        "# in first hidden layer because there can be any number\n",
        "# of neurons based on architecture.\n",
        "\n",
        "# So we need to add how many units it needs to have.\n",
        "\n",
        "# these layers become object of dense class\n",
        "# so we give it here which belongs to a module 'layers' \n",
        "# in keras sub lib which is tensorflow lib\n",
        "\n"
      ],
      "execution_count": 15,
      "outputs": []
    },
    {
      "cell_type": "markdown",
      "metadata": {
        "id": "-lb4kK_wAKbs"
      },
      "source": [
        "### Adding the second hidden layer"
      ]
    },
    {
      "cell_type": "code",
      "metadata": {
        "id": "F3X8CnOy6ELX"
      },
      "source": [
        "ann.add(tf.keras.layers.Dense(units=6, activation='relu'))"
      ],
      "execution_count": 16,
      "outputs": []
    },
    {
      "cell_type": "markdown",
      "metadata": {
        "id": "jwMOmKb3AdBY"
      },
      "source": [
        "### Adding the output layer"
      ]
    },
    {
      "cell_type": "code",
      "metadata": {
        "id": "X3rlwyQU6zlk"
      },
      "source": [
        "ann.add(tf.keras.layers.Dense(units=1))\n",
        "\n",
        "# it's ok to keep the activation function\n",
        "# but it's recomended to have sigmoid or doftmax activation\n",
        "# function which is used for classification but\n",
        "# here it is regression so remove the activation function\n",
        "# classification -- yes or no || 0 or 1 --> sigmoid\n",
        "#                -- more than two categories --> softmax\n",
        "# regression -- continuous real number as output --> no activation function"
      ],
      "execution_count": 18,
      "outputs": []
    },
    {
      "cell_type": "markdown",
      "metadata": {
        "id": "fq7e4fF6A1yy"
      },
      "source": [
        "## Part 3 - Training the ANN"
      ]
    },
    {
      "cell_type": "markdown",
      "metadata": {
        "id": "qDeylAs2An25"
      },
      "source": [
        "### Compiling the ANN"
      ]
    },
    {
      "cell_type": "code",
      "metadata": {
        "id": "e5yqiEXE88cp"
      },
      "source": [
        "# connecting to ANN and optimizer and a lost function\n",
        "\n",
        "# optimizer and lost function -- the tool which we are going to perform \n",
        "# stochastic gradient decent -- a technique that consists of updating the \n",
        "# weights of each of the neurons in the hidden layer so to reduce loss\n",
        "\n",
        "# the prediction will be compared to the real output set \n",
        "# this will produce a loss = \n",
        "# sum of squared differences\n",
        "# it reduces the loss by back propagating\n",
        "\n",
        "ann.compile(optimizer = 'adam', loss = 'mean_squared_error')\n",
        "# parameters are optimizer and loss function"
      ],
      "execution_count": 19,
      "outputs": []
    },
    {
      "cell_type": "markdown",
      "metadata": {
        "id": "YjVuiybYOo7r"
      },
      "source": [
        "### Training the ANN model on the Training set"
      ]
    },
    {
      "cell_type": "code",
      "metadata": {
        "colab": {
          "base_uri": "https://localhost:8080/"
        },
        "id": "hZrYjq1W_r-c",
        "outputId": "9c6e86bd-ccce-43a1-f785-3d57b866d1ff"
      },
      "source": [
        "ann.fit(X_train, y_train, batch_size=32, epochs = 100)\n",
        "# epoch -- over each epoch loss is slightly reduced\n",
        "# so set number of epochs\n",
        "\n",
        "# in forward propagation it does in batches instead of one by one \n",
        "\n",
        "# X_train and y_train are training sets to train the ANN"
      ],
      "execution_count": 20,
      "outputs": [
        {
          "output_type": "stream",
          "text": [
            "Epoch 1/100\n",
            "240/240 [==============================] - 1s 1ms/step - loss: 1568.1544\n",
            "Epoch 2/100\n",
            "240/240 [==============================] - 0s 1ms/step - loss: 362.8035\n",
            "Epoch 3/100\n",
            "240/240 [==============================] - 0s 1ms/step - loss: 323.3337\n",
            "Epoch 4/100\n",
            "240/240 [==============================] - 0s 1ms/step - loss: 276.8556\n",
            "Epoch 5/100\n",
            "240/240 [==============================] - 0s 1ms/step - loss: 224.7044\n",
            "Epoch 6/100\n",
            "240/240 [==============================] - 0s 1ms/step - loss: 170.0179\n",
            "Epoch 7/100\n",
            "240/240 [==============================] - 0s 1ms/step - loss: 119.7042\n",
            "Epoch 8/100\n",
            "240/240 [==============================] - 0s 1ms/step - loss: 80.9464\n",
            "Epoch 9/100\n",
            "240/240 [==============================] - 0s 1ms/step - loss: 55.5779\n",
            "Epoch 10/100\n",
            "240/240 [==============================] - 0s 1ms/step - loss: 43.1116\n",
            "Epoch 11/100\n",
            "240/240 [==============================] - 0s 1ms/step - loss: 37.9234\n",
            "Epoch 12/100\n",
            "240/240 [==============================] - 0s 1ms/step - loss: 34.9284\n",
            "Epoch 13/100\n",
            "240/240 [==============================] - 0s 1ms/step - loss: 32.8043\n",
            "Epoch 14/100\n",
            "240/240 [==============================] - 0s 1ms/step - loss: 31.0774\n",
            "Epoch 15/100\n",
            "240/240 [==============================] - 0s 1ms/step - loss: 30.6718\n",
            "Epoch 16/100\n",
            "240/240 [==============================] - 0s 1ms/step - loss: 29.5686\n",
            "Epoch 17/100\n",
            "240/240 [==============================] - 0s 1ms/step - loss: 29.1128\n",
            "Epoch 18/100\n",
            "240/240 [==============================] - 0s 1ms/step - loss: 29.2250\n",
            "Epoch 19/100\n",
            "240/240 [==============================] - 0s 1ms/step - loss: 28.9918\n",
            "Epoch 20/100\n",
            "240/240 [==============================] - 0s 1ms/step - loss: 29.4252\n",
            "Epoch 21/100\n",
            "240/240 [==============================] - 0s 1ms/step - loss: 28.8200\n",
            "Epoch 22/100\n",
            "240/240 [==============================] - 0s 1ms/step - loss: 29.1816\n",
            "Epoch 23/100\n",
            "240/240 [==============================] - 0s 1ms/step - loss: 28.8046\n",
            "Epoch 24/100\n",
            "240/240 [==============================] - 0s 1ms/step - loss: 27.7656\n",
            "Epoch 25/100\n",
            "240/240 [==============================] - 0s 1ms/step - loss: 27.9798\n",
            "Epoch 26/100\n",
            "240/240 [==============================] - 0s 1ms/step - loss: 27.5544\n",
            "Epoch 27/100\n",
            "240/240 [==============================] - 0s 1ms/step - loss: 28.3085\n",
            "Epoch 28/100\n",
            "240/240 [==============================] - 0s 1ms/step - loss: 27.6724\n",
            "Epoch 29/100\n",
            "240/240 [==============================] - 0s 1ms/step - loss: 27.8156\n",
            "Epoch 30/100\n",
            "240/240 [==============================] - 0s 1ms/step - loss: 28.0267\n",
            "Epoch 31/100\n",
            "240/240 [==============================] - 0s 1ms/step - loss: 27.9144\n",
            "Epoch 32/100\n",
            "240/240 [==============================] - 0s 1ms/step - loss: 28.7402\n",
            "Epoch 33/100\n",
            "240/240 [==============================] - 0s 1ms/step - loss: 27.2146\n",
            "Epoch 34/100\n",
            "240/240 [==============================] - 0s 1ms/step - loss: 27.0647\n",
            "Epoch 35/100\n",
            "240/240 [==============================] - 0s 1ms/step - loss: 27.0917\n",
            "Epoch 36/100\n",
            "240/240 [==============================] - 0s 1ms/step - loss: 27.4172\n",
            "Epoch 37/100\n",
            "240/240 [==============================] - 0s 1ms/step - loss: 27.2211\n",
            "Epoch 38/100\n",
            "240/240 [==============================] - 0s 1ms/step - loss: 27.8115\n",
            "Epoch 39/100\n",
            "240/240 [==============================] - 0s 1ms/step - loss: 28.1209\n",
            "Epoch 40/100\n",
            "240/240 [==============================] - 0s 1ms/step - loss: 26.7278\n",
            "Epoch 41/100\n",
            "240/240 [==============================] - 0s 1ms/step - loss: 26.9469\n",
            "Epoch 42/100\n",
            "240/240 [==============================] - 0s 1ms/step - loss: 27.7360\n",
            "Epoch 43/100\n",
            "240/240 [==============================] - 0s 1ms/step - loss: 27.1543\n",
            "Epoch 44/100\n",
            "240/240 [==============================] - 0s 1ms/step - loss: 27.4297\n",
            "Epoch 45/100\n",
            "240/240 [==============================] - 0s 1ms/step - loss: 28.3676\n",
            "Epoch 46/100\n",
            "240/240 [==============================] - 0s 1ms/step - loss: 27.6205\n",
            "Epoch 47/100\n",
            "240/240 [==============================] - 0s 1ms/step - loss: 27.0988\n",
            "Epoch 48/100\n",
            "240/240 [==============================] - 0s 1ms/step - loss: 27.3958\n",
            "Epoch 49/100\n",
            "240/240 [==============================] - 0s 1ms/step - loss: 27.7861\n",
            "Epoch 50/100\n",
            "240/240 [==============================] - 0s 1ms/step - loss: 27.4900\n",
            "Epoch 51/100\n",
            "240/240 [==============================] - 0s 1ms/step - loss: 26.8147\n",
            "Epoch 52/100\n",
            "240/240 [==============================] - 0s 1ms/step - loss: 27.3839\n",
            "Epoch 53/100\n",
            "240/240 [==============================] - 0s 1ms/step - loss: 27.7541\n",
            "Epoch 54/100\n",
            "240/240 [==============================] - 0s 1ms/step - loss: 28.6255\n",
            "Epoch 55/100\n",
            "240/240 [==============================] - 0s 1ms/step - loss: 27.1728\n",
            "Epoch 56/100\n",
            "240/240 [==============================] - 0s 1ms/step - loss: 27.1381\n",
            "Epoch 57/100\n",
            "240/240 [==============================] - 0s 1ms/step - loss: 27.7897\n",
            "Epoch 58/100\n",
            "240/240 [==============================] - 0s 1ms/step - loss: 26.9724\n",
            "Epoch 59/100\n",
            "240/240 [==============================] - 0s 1ms/step - loss: 27.3039\n",
            "Epoch 60/100\n",
            "240/240 [==============================] - 0s 1ms/step - loss: 27.0200\n",
            "Epoch 61/100\n",
            "240/240 [==============================] - 0s 1ms/step - loss: 27.1942\n",
            "Epoch 62/100\n",
            "240/240 [==============================] - 0s 1ms/step - loss: 27.5761\n",
            "Epoch 63/100\n",
            "240/240 [==============================] - 0s 1ms/step - loss: 27.3977\n",
            "Epoch 64/100\n",
            "240/240 [==============================] - 0s 1ms/step - loss: 27.1141\n",
            "Epoch 65/100\n",
            "240/240 [==============================] - 0s 1ms/step - loss: 27.3412\n",
            "Epoch 66/100\n",
            "240/240 [==============================] - 0s 1ms/step - loss: 28.0698\n",
            "Epoch 67/100\n",
            "240/240 [==============================] - 0s 1ms/step - loss: 27.8017\n",
            "Epoch 68/100\n",
            "240/240 [==============================] - 0s 1ms/step - loss: 28.1689\n",
            "Epoch 69/100\n",
            "240/240 [==============================] - 0s 1ms/step - loss: 26.7531\n",
            "Epoch 70/100\n",
            "240/240 [==============================] - 0s 1ms/step - loss: 27.3613\n",
            "Epoch 71/100\n",
            "240/240 [==============================] - 0s 1ms/step - loss: 26.8285\n",
            "Epoch 72/100\n",
            "240/240 [==============================] - 0s 1ms/step - loss: 27.2343\n",
            "Epoch 73/100\n",
            "240/240 [==============================] - 0s 1ms/step - loss: 28.4966\n",
            "Epoch 74/100\n",
            "240/240 [==============================] - 0s 1ms/step - loss: 26.8183\n",
            "Epoch 75/100\n",
            "240/240 [==============================] - 0s 1ms/step - loss: 27.2989\n",
            "Epoch 76/100\n",
            "240/240 [==============================] - 0s 1ms/step - loss: 27.4844\n",
            "Epoch 77/100\n",
            "240/240 [==============================] - 0s 1ms/step - loss: 26.9963\n",
            "Epoch 78/100\n",
            "240/240 [==============================] - 0s 1ms/step - loss: 26.8357\n",
            "Epoch 79/100\n",
            "240/240 [==============================] - 0s 1ms/step - loss: 26.7373\n",
            "Epoch 80/100\n",
            "240/240 [==============================] - 0s 1ms/step - loss: 27.1865\n",
            "Epoch 81/100\n",
            "240/240 [==============================] - 0s 1ms/step - loss: 26.3567\n",
            "Epoch 82/100\n",
            "240/240 [==============================] - 0s 1ms/step - loss: 26.6941\n",
            "Epoch 83/100\n",
            "240/240 [==============================] - 0s 1ms/step - loss: 26.8294\n",
            "Epoch 84/100\n",
            "240/240 [==============================] - 0s 1ms/step - loss: 26.9879\n",
            "Epoch 85/100\n",
            "240/240 [==============================] - 0s 1ms/step - loss: 26.6105\n",
            "Epoch 86/100\n",
            "240/240 [==============================] - 0s 1ms/step - loss: 26.1695\n",
            "Epoch 87/100\n",
            "240/240 [==============================] - 0s 1ms/step - loss: 25.7176\n",
            "Epoch 88/100\n",
            "240/240 [==============================] - 0s 1ms/step - loss: 26.2285\n",
            "Epoch 89/100\n",
            "240/240 [==============================] - 0s 1ms/step - loss: 26.7182\n",
            "Epoch 90/100\n",
            "240/240 [==============================] - 0s 1ms/step - loss: 26.1793\n",
            "Epoch 91/100\n",
            "240/240 [==============================] - 0s 1ms/step - loss: 26.2801\n",
            "Epoch 92/100\n",
            "240/240 [==============================] - 0s 1ms/step - loss: 25.9002\n",
            "Epoch 93/100\n",
            "240/240 [==============================] - 0s 1ms/step - loss: 25.8965\n",
            "Epoch 94/100\n",
            "240/240 [==============================] - 0s 1ms/step - loss: 26.1633\n",
            "Epoch 95/100\n",
            "240/240 [==============================] - 0s 1ms/step - loss: 25.5495\n",
            "Epoch 96/100\n",
            "240/240 [==============================] - 0s 1ms/step - loss: 25.8684\n",
            "Epoch 97/100\n",
            "240/240 [==============================] - 0s 1ms/step - loss: 26.5725\n",
            "Epoch 98/100\n",
            "240/240 [==============================] - 0s 1ms/step - loss: 25.4547\n",
            "Epoch 99/100\n",
            "240/240 [==============================] - 0s 1ms/step - loss: 25.6030\n",
            "Epoch 100/100\n",
            "240/240 [==============================] - 0s 1ms/step - loss: 27.4062\n"
          ],
          "name": "stdout"
        },
        {
          "output_type": "execute_result",
          "data": {
            "text/plain": [
              "<tensorflow.python.keras.callbacks.History at 0x7f0385f0ae10>"
            ]
          },
          "metadata": {
            "tags": []
          },
          "execution_count": 20
        }
      ]
    },
    {
      "cell_type": "markdown",
      "metadata": {
        "id": "0H0zKKNEBLD5"
      },
      "source": [
        "### Predicting the results of the Test set"
      ]
    },
    {
      "cell_type": "code",
      "metadata": {
        "colab": {
          "base_uri": "https://localhost:8080/"
        },
        "id": "diDwelhPCQiL",
        "outputId": "8355ee57-b718-4852-f2dc-682a3e4f0c6f"
      },
      "source": [
        "y_pred = ann.predict(x=X_test)\n",
        "# predicted set based on the features in X\n",
        "\n",
        "# compare y_pred to y_test \n",
        "## which is comparison b/w predicted values to the test values(actual output)\n",
        "\n",
        "# use numpy to set number of decimals after the comma in\n",
        "# predictions and real results to 2 or else large number of decimal appears\n",
        "np.set_printoptions(precision=2) # 2 decimals after .\n",
        "\n",
        "# y_pred.reshape(len(y_pred),1) # will be reshaped to 1 column\n",
        "# i.e., horizontal to vertical\n",
        "\n",
        "# to put both vertically next to each other\n",
        "# y_test.reshape(len(y_test), 1)\n",
        "\n",
        "# use concat function from numpy\n",
        "# reshape and concat at once\n",
        "print(np.concatenate((y_pred.reshape(len(y_pred),1), y_test.reshape(len(y_test), 1)), 1))\n",
        "# 1 = vertical concat\n",
        "# 0 = horizontal concat"
      ],
      "execution_count": 22,
      "outputs": [
        {
          "output_type": "stream",
          "text": [
            "[[433.82 431.23]\n",
            " [462.93 460.01]\n",
            " [467.01 461.14]\n",
            " ...\n",
            " [474.44 473.26]\n",
            " [440.21 438.  ]\n",
            " [460.26 463.28]]\n"
          ],
          "name": "stdout"
        }
      ]
    }
  ]
}